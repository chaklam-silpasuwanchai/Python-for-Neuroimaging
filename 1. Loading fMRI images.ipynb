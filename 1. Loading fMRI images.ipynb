{
 "cells": [
  {
   "cell_type": "markdown",
   "metadata": {},
   "source": [
    "# 1. Loading the fMRI images\n",
    "\n",
    "Let's first learn how to load fMRI images, and also understand the dimensions of fMRI images."
   ]
  },
  {
   "cell_type": "code",
   "execution_count": 1,
   "metadata": {},
   "outputs": [
    {
     "name": "stdout",
     "output_type": "stream",
     "text": [
      "3.2.1\n"
     ]
    }
   ],
   "source": [
    "#main library for preprocessing fMRI images\n",
    "import nibabel as nb\n",
    "print(nb.__version__)\n",
    "\n",
    "# utilities\n",
    "from pathlib import Path            #combine path elements with /"
   ]
  },
  {
   "cell_type": "markdown",
   "metadata": {},
   "source": [
    "Setting the path directory"
   ]
  },
  {
   "cell_type": "code",
   "execution_count": 2,
   "metadata": {},
   "outputs": [],
   "source": [
    "data_dir = Path('data')"
   ]
  },
  {
   "cell_type": "markdown",
   "metadata": {},
   "source": [
    "## 1. Importing data\n",
    "\n",
    "### Loading\n",
    "\n",
    "Load some data.  Note that the data is from https://dataverse.harvard.edu/dataset.xhtml?persistentId=doi:10.7910/DVN/29352  which contains 30 subjects data.  10 for AD (Alzheimers) (denoted nothing), 10 for MCI (Mild Cognitive Impairement) (denoted 1), and 10 for NCS (Normal) (denoted 2).  \n",
    "\n",
    "Each of the subject has two information - functional and structual.\n",
    "\n",
    "Let's try load the eighth (i just simply randomly choose) AD subject images."
   ]
  },
  {
   "cell_type": "code",
   "execution_count": 3,
   "metadata": {},
   "outputs": [
    {
     "data": {
      "text/plain": [
       "<nibabel.nifti1.Nifti1Image at 0x11b34d6a0>"
      ]
     },
     "execution_count": 3,
     "metadata": {},
     "output_type": "execute_result"
    }
   ],
   "source": [
    "t1w  = nb.load(data_dir /'subj_08_structural.nii')  #t1w stands for T1 weighted image\n",
    "bold = nb.load(data_dir /'subj_08_functional.nii')  #blood oxygenization image (the functional MRI)\n",
    "t1w"
   ]
  }
 ],
 "metadata": {
  "kernelspec": {
   "display_name": "Python 3.8.6 ('teaching_env')",
   "language": "python",
   "name": "python3"
  },
  "language_info": {
   "codemirror_mode": {
    "name": "ipython",
    "version": 3
   },
   "file_extension": ".py",
   "mimetype": "text/x-python",
   "name": "python",
   "nbconvert_exporter": "python",
   "pygments_lexer": "ipython3",
   "version": "3.8.6"
  },
  "vscode": {
   "interpreter": {
    "hash": "becc4c8e5ad229b2591d820334d85e3db0111492344629bf57f272470dce75a5"
   }
  }
 },
 "nbformat": 4,
 "nbformat_minor": 4
}
